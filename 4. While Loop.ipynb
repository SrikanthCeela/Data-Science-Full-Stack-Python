{
 "cells": [
  {
   "cell_type": "markdown",
   "id": "c19a9bd1",
   "metadata": {},
   "source": [
    "### While Loop Logic Building"
   ]
  },
  {
   "cell_type": "markdown",
   "id": "40a7170e",
   "metadata": {},
   "source": [
    "In python, a while loop is a control structure that allows you to execute a block of code repeatedly while a certain condition is true.\n",
    "\n"
   ]
  },
  {
   "cell_type": "code",
   "execution_count": null,
   "id": "f4d04575",
   "metadata": {},
   "outputs": [],
   "source": [
    "While Loop Syntax:\n",
    "\n",
    "\n",
    "While condition:\n",
    "    # code to execute"
   ]
  },
  {
   "cell_type": "markdown",
   "id": "421c3a13",
   "metadata": {},
   "source": [
    "- Condition is a Boolean expression that is evaluated before each iteration of the loop.\n",
    "- If the condition is 'True', the code inside the loop is executed.\n",
    "- If the condition is 'False', the loop is exited and the program continues with the code that follows the loop.\n",
    "\n",
    "To build the logic for a while loop in Python, you first need to determine the condition that should be evaluated. This condition should be based on a variable or expression that changes within the loop, so that the loop can eventually terminate. For example, you could use a counter variable that is incremented with each iteration of the loop, and the condition could be based on the value of the counter"
   ]
  },
  {
   "cell_type": "code",
   "execution_count": null,
   "id": "f614306d",
   "metadata": {},
   "outputs": [],
   "source": [
    "# Here is an example of a while loop that prints the numbers from 1 to 10:\n",
    "\n",
    "count = 1\n",
    "while count <= 5:\n",
    "    print(count)\n",
    "    count += 1"
   ]
  },
  {
   "cell_type": "markdown",
   "id": "ebf4a5a7",
   "metadata": {},
   "source": [
    "* In this example, the condition is count <= 5, which is evaluated before each iteration of the loop. \n",
    "* The count variable is initialized to 1, and then incremented with each iteration of the loop using the count += 1 statement. \n",
    "* The loop will continue executing as long as count is less than or equal to 5."
   ]
  },
  {
   "cell_type": "markdown",
   "id": "3a836903",
   "metadata": {},
   "source": [
    "- You can also use other Boolean expressions as the condition for a while loop, such as comparisons (<, >, <=, >=)\n",
    "       logical operators (and, or, not)\n",
    ", and function calls that return a Boolean value. \n",
    "\n",
    "- It is important to ensure that the condition will eventually become False, otherwise the loop will run indefinitely and the program will hang."
   ]
  },
  {
   "cell_type": "markdown",
   "id": "91453bd2",
   "metadata": {},
   "source": [
    "### Series Based Questions"
   ]
  },
  {
   "cell_type": "code",
   "execution_count": null,
   "id": "6a9f7900",
   "metadata": {},
   "outputs": [],
   "source": [
    "# 1. Take 10 integers from keyboard using loop and print their average value on the screen.\n",
    "\n",
    "count = 0\n",
    "total = 0\n",
    "\n",
    "while count < 10:\n",
    "    num = int(input(\"Enter an integer: \"))\n",
    "    total += num\n",
    "    count += 1\n",
    "\n",
    "average = total / 10\n",
    "print(\"The average value is:\", average)\n"
   ]
  },
  {
   "cell_type": "markdown",
   "id": "d1624222",
   "metadata": {},
   "source": [
    "\n",
    "- the count variable is used to keep track of how many integers have been entered so far\n",
    "- the total variable is used to keep track of their sum. The loop continues as long as count is less than 10, and each iteration of the loop prompts the user to enter an integer, adds the integer to total, and increments count by 1.\n",
    "\n",
    "- After the loop, the average value is calculated by dividing total by 10 (the number of integers entered), and the result is printed to the console using the print() function."
   ]
  },
  {
   "cell_type": "code",
   "execution_count": null,
   "id": "1caedcb0",
   "metadata": {},
   "outputs": [],
   "source": [
    "#2. First 10 even numbers\n",
    "num = 2\n",
    "\n",
    "while num<=20:\n",
    "    print(num, end=\" \")\n",
    "    num += 2\n"
   ]
  },
  {
   "cell_type": "code",
   "execution_count": null,
   "id": "28273b32",
   "metadata": {},
   "outputs": [],
   "source": [
    "#3. First 10 odd numbers\n",
    "num = 1\n",
    "\n",
    "while num <= 20:\n",
    "    print(num, end=\" \")\n",
    "    num += 2"
   ]
  },
  {
   "cell_type": "code",
   "execution_count": null,
   "id": "a82d7f61",
   "metadata": {},
   "outputs": [],
   "source": [
    "#4. First 10 Natural Numbers\n",
    "num = 1\n",
    "\n",
    "while num <= 10:\n",
    "    print(num, end=\" \")\n",
    "    num += 1"
   ]
  },
  {
   "cell_type": "code",
   "execution_count": null,
   "id": "104f6d86",
   "metadata": {},
   "outputs": [],
   "source": [
    "#5. First 10 Whole Numbers\n",
    "num = 0\n",
    "\n",
    "while num < 10:\n",
    "    print(num, end=\" \")\n",
    "    num += 1"
   ]
  },
  {
   "cell_type": "code",
   "execution_count": null,
   "id": "5a63da2f",
   "metadata": {},
   "outputs": [],
   "source": [
    "#6. First 10 Integers and their Squares\n",
    "\n",
    "num = 1\n",
    "print(\"Numbers\\t\\tSquares\")\n",
    "while num <= 10:\n",
    "    print(num,\"\\t\\t\",num**2)\n",
    "    num += 1"
   ]
  },
  {
   "cell_type": "code",
   "execution_count": null,
   "id": "00ee1954",
   "metadata": {},
   "outputs": [],
   "source": [
    "#7. Write while loop statement to print the following series\n",
    "#10,20,30,.....300\n",
    "\n",
    "num = 10\n",
    "\n",
    "while num <= 300:\n",
    "    print(num, end=\" \")\n",
    "    num += 10"
   ]
  },
  {
   "cell_type": "code",
   "execution_count": null,
   "id": "8ec93907",
   "metadata": {},
   "outputs": [],
   "source": [
    "#8. print series - 105,98,91,.....7\n",
    "\n",
    "num = 105\n",
    "\n",
    "while num >= 7:\n",
    "    print(num, end=\" \")\n",
    "    num -= 7"
   ]
  },
  {
   "cell_type": "code",
   "execution_count": null,
   "id": "ff70d8ad",
   "metadata": {},
   "outputs": [],
   "source": [
    "#9. First 10 Natural numbers in reverse order\n",
    "\n",
    "num = 10\n",
    "\n",
    "while num >= 1:\n",
    "    print(num, end=\" \")\n",
    "    num -= 1"
   ]
  },
  {
   "cell_type": "code",
   "execution_count": null,
   "id": "33208d3e",
   "metadata": {},
   "outputs": [],
   "source": [
    "#10. print sum of first 10 Natural Numbers\n",
    "sum = 0\n",
    "num = 1\n",
    "\n",
    "while num <= 10:\n",
    "    sum += num\n",
    "    num += 1\n",
    "print(sum)"
   ]
  },
  {
   "cell_type": "code",
   "execution_count": null,
   "id": "439447e9",
   "metadata": {},
   "outputs": [],
   "source": [
    "#11. print sum of first 10 even numbers\n",
    "\n",
    "sum = 0\n",
    "num = 2\n",
    "\n",
    "while num <= 20:\n",
    "    sum += num\n",
    "    num += 2\n",
    "print(sum)"
   ]
  },
  {
   "cell_type": "code",
   "execution_count": null,
   "id": "f0774bcd",
   "metadata": {},
   "outputs": [],
   "source": [
    "#12. print table od a number entered from the user\n",
    "\n",
    "i = 1\n",
    "\n",
    "num = int(input(\"Enter any number: \"))\n",
    "\n",
    "while i <= 10:\n",
    "    print(num, \"*\",i,\"=\",num*i)\n",
    "    i += 1\n",
    "    "
   ]
  },
  {
   "cell_type": "code",
   "execution_count": 1,
   "id": "5847e87a",
   "metadata": {},
   "outputs": [
    {
     "name": "stdout",
     "output_type": "stream",
     "text": [
      "Enter the start number: 3\n",
      "Enter the end number: 9\n",
      "4\n",
      "6\n",
      "8\n"
     ]
    }
   ],
   "source": [
    "#13. print all even numbers that falls between two numbers (exclude both numbers) entered from the user using while loop\n",
    "\n",
    "# take input from user\n",
    "start = int(input(\"Enter the start number: \"))\n",
    "end = int(input(\"Enter the end number: \"))\n",
    "\n",
    "# check if start is even, if not increment by 1\n",
    "if start % 2 != 0:\n",
    "    start += 1\n",
    "\n",
    "# loop through even numbers and print them\n",
    "while start < end:\n",
    "    print(start)\n",
    "    start += 2"
   ]
  },
  {
   "cell_type": "code",
   "execution_count": 6,
   "id": "4a274b22",
   "metadata": {},
   "outputs": [
    {
     "name": "stdout",
     "output_type": "stream",
     "text": [
      "Enter a number: 4\n",
      "4 is not a prime number\n"
     ]
    }
   ],
   "source": [
    "#14. Write a program to check whether a number is prime or not using while loop\n",
    "\n",
    "num = int(input(\"Enter a number: \"))\n",
    "\n",
    "if num > 1:\n",
    "    i = 2\n",
    "    is_prime = True\n",
    "    while i <= (num//2):\n",
    "        if (num % i) == 0:\n",
    "            is_prime = False\n",
    "            #No need to continue the loop, so break out of it \n",
    "        i += 1\n",
    "    if is_prime:\n",
    "        print(num, \"is a prime number\")\n",
    "    else:\n",
    "        print(num, \"is not a prime number\")\n",
    "else:\n",
    "    print(num, \"is not a prime number\")"
   ]
  },
  {
   "cell_type": "markdown",
   "id": "38645bf3",
   "metadata": {},
   "source": [
    "- In this program, we first take input from the user to determine the number we want to check for prime-ness.\n",
    "- We then check if the number is greater than 1, as all prime numbers are greater than 1. If the number is less than or equal to 1, it is not a prime number\n",
    "- We initialize the variable i to 2 and the variable is_prime to True. We use the is_prime variable to keep track of whether or not the number is prime.\n",
    "- We check if i is less than or equal to half of the input number num. We do this because any factor of num will be less than or equal to half of num.\n",
    "- We then check if the remainder of num divided by i is equal to 0. If it is, we set is_prime to False.\n",
    "- After the loop completes, we check the value of is_prime. If it is still True, we print that num is a prime number. Otherwise, we print that num is not a prime number."
   ]
  },
  {
   "cell_type": "code",
   "execution_count": 17,
   "id": "0fd789fc",
   "metadata": {},
   "outputs": [
    {
     "name": "stdout",
     "output_type": "stream",
     "text": [
      "Enter any number: 234\n",
      "Sum of the digits are:  9\n"
     ]
    }
   ],
   "source": [
    "#15. write a program to find sum of the digits of a number accepted from the user\n",
    "\n",
    "num = int(input(\"Enter any number: \"))\n",
    "r = 0\n",
    "s = 0\n",
    "while(num != 0):\n",
    "    r = num % 10\n",
    "    s += r\n",
    "    num = num // 10\n",
    "print(\"Sum of the digits are: \", s)"
   ]
  },
  {
   "cell_type": "code",
   "execution_count": 19,
   "id": "34873728",
   "metadata": {},
   "outputs": [
    {
     "name": "stdout",
     "output_type": "stream",
     "text": [
      "Enter any number: 234\n",
      "Product of the digits are:  24\n"
     ]
    }
   ],
   "source": [
    "# 16. Write a program to find the product of the digits of a number accepted from the use\n",
    "\n",
    "num1 = int(input(\"Enter any number: \"))\n",
    "r = 0\n",
    "p = 1\n",
    "while(num1 != 0):\n",
    "    r = num1 % 10\n",
    "    p *= r\n",
    "    num1 = num1 // 10\n",
    "print(\"Product of the digits are: \", p)"
   ]
  },
  {
   "cell_type": "code",
   "execution_count": null,
   "id": "e140f6e1",
   "metadata": {},
   "outputs": [],
   "source": []
  }
 ],
 "metadata": {
  "kernelspec": {
   "display_name": "Python 3 (ipykernel)",
   "language": "python",
   "name": "python3"
  },
  "language_info": {
   "codemirror_mode": {
    "name": "ipython",
    "version": 3
   },
   "file_extension": ".py",
   "mimetype": "text/x-python",
   "name": "python",
   "nbconvert_exporter": "python",
   "pygments_lexer": "ipython3",
   "version": "3.8.10"
  },
  "toc": {
   "base_numbering": 1,
   "nav_menu": {},
   "number_sections": true,
   "sideBar": true,
   "skip_h1_title": false,
   "title_cell": "Table of Contents",
   "title_sidebar": "Contents",
   "toc_cell": false,
   "toc_position": {},
   "toc_section_display": true,
   "toc_window_display": false
  }
 },
 "nbformat": 4,
 "nbformat_minor": 5
}
